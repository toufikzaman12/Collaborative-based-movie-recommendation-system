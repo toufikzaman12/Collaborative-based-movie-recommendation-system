{
 "cells": [
  {
   "cell_type": "code",
   "execution_count": null,
   "id": "0eb41682-01b4-4526-9513-6338e9003e61",
   "metadata": {},
   "outputs": [],
   "source": [
    "#  ...........Collaborative Based Movie recommendation system............(Md Toufikzaman)"
   ]
  },
  {
   "cell_type": "code",
   "execution_count": 14,
   "id": "6a519833-6d71-4829-99f0-8725a706e3a0",
   "metadata": {},
   "outputs": [],
   "source": [
    "import pandas as pd\n",
    "from sklearn.metrics.pairwise import cosine_similarity\n",
    "from sklearn.metrics import mean_squared_error\n",
    "import numpy as np"
   ]
  },
  {
   "cell_type": "code",
   "execution_count": 15,
   "id": "0b2a3570-ea51-4dfc-9f32-e3508e4f73e9",
   "metadata": {},
   "outputs": [],
   "source": [
    "# Load the ratings dataset\n",
    "ratings = pd.read_csv('ratings.csv')\n",
    "movies = pd.read_csv('movies.csv')"
   ]
  },
  {
   "cell_type": "code",
   "execution_count": 16,
   "id": "cc64b940-c1c8-47bf-8a5e-b15fd8cf4401",
   "metadata": {},
   "outputs": [
    {
     "name": "stdout",
     "output_type": "stream",
     "text": [
      "Recommended Movies:\n",
      "['Ace Ventura: When Nature Calls (1995)' 'Santa Clause, The (1994)'\n",
      " 'Lion King, The (1994)' 'Mask, The (1994)' 'Jurassic Park (1993)'\n",
      " 'Mrs. Doubtfire (1993)' 'Nightmare Before Christmas, The (1993)'\n",
      " 'Home Alone (1990)' 'Aladdin (1992)' 'Beauty and the Beast (1991)']\n"
     ]
    }
   ],
   "source": [
    "\n",
    "# Create the user-item matrix\n",
    "user_item_matrix = ratings.pivot(index='userId', columns='movieId', values='rating')\n",
    "\n",
    "# Fill NaN values with 0 (for simplicity, though other techniques can be used)\n",
    "user_item_matrix_filled = user_item_matrix.fillna(0)\n",
    "\n",
    "# Compute cosine similarity between items (movies)\n",
    "item_similarity = cosine_similarity(user_item_matrix_filled.T)\n",
    "\n",
    "# Convert into a DataFrame for easier manipulation\n",
    "item_similarity_df = pd.DataFrame(item_similarity, index=user_item_matrix.columns, columns=user_item_matrix.columns)\n",
    "\n",
    "def get_collaborative_recommendations(movie_id, user_item_matrix, item_similarity_df, movies_df, top_n=10):\n",
    "    if movie_id not in item_similarity_df.columns:\n",
    "        return \"Movie not found in the dataset.\"\n",
    "    \n",
    "    # Get the similarity scores for the given movie\n",
    "    similar_scores = item_similarity_df[movie_id]\n",
    "    \n",
    "    # Drop the input movie to avoid recommending it\n",
    "    similar_scores = similar_scores.drop(movie_id)\n",
    "    \n",
    "    # Sort movies by similarity score\n",
    "    similar_movies_ids = similar_scores.sort_values(ascending=False).index[:top_n]\n",
    "    \n",
    "    # Map movie IDs to movie names\n",
    "    similar_movies = movies_df[movies_df['movieId'].isin(similar_movies_ids)]['title'].values\n",
    "    \n",
    "    return similar_movies\n",
    "\n",
    "# Example movieId (change to an actual movieId from your dataset)\n",
    "# here you can changes movie id and get the actual result based on movie id\n",
    "\n",
    "example_movie_id = 2\n",
    "\n",
    "# Test the function\n",
    "recommended_movies = get_collaborative_recommendations(example_movie_id, user_item_matrix_filled, item_similarity_df, movies)\n",
    "print(\"Recommended Movies:\")\n",
    "print(recommended_movies)\n"
   ]
  },
  {
   "cell_type": "code",
   "execution_count": null,
   "id": "cd78d7ab-146f-4763-92ab-ee9f4fdb05fd",
   "metadata": {},
   "outputs": [],
   "source": []
  }
 ],
 "metadata": {
  "kernelspec": {
   "display_name": "Python 3 (ipykernel)",
   "language": "python",
   "name": "python3"
  },
  "language_info": {
   "codemirror_mode": {
    "name": "ipython",
    "version": 3
   },
   "file_extension": ".py",
   "mimetype": "text/x-python",
   "name": "python",
   "nbconvert_exporter": "python",
   "pygments_lexer": "ipython3",
   "version": "3.12.4"
  }
 },
 "nbformat": 4,
 "nbformat_minor": 5
}
